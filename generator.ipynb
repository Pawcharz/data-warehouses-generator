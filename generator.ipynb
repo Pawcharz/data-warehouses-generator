{
 "cells": [
  {
   "cell_type": "code",
   "execution_count": 57,
   "metadata": {},
   "outputs": [],
   "source": [
    "import random\n",
    "from datetime import timedelta\n",
    "from utilities import generate_random_date, generate_licence_plate"
   ]
  },
  {
   "cell_type": "code",
   "execution_count": 58,
   "metadata": {},
   "outputs": [],
   "source": [
    "car_brands = {\n",
    "  \"Bmw\": [\"Series 3\"],\n",
    "  \"Toyota\": [\"Corolla\", \"Land Cruiser\", \"Hilux\", \"Rav\"],\n",
    "  \"Skoda\": [\"Superb\"],\n",
    "  \"Kia\": [\"Stinger GT\", \"Ceed 3\"],\n",
    "  \"Volkswagen\": [\"Crafter\", \"Passat\"],\n",
    "  \"Hyundai\": [\"Ionia\", \"Tucson\"]\n",
    "}\n",
    "\n",
    "motorbike_brands = {\n",
    "  \"Triumph\": [\"Tiger 1050\"],\n",
    "  \"Kawasaki\": [\"Versys 1000\"],\n",
    "  \"BMW\": [\"R 1250 RT\"],\n",
    "}"
   ]
  },
  {
   "cell_type": "code",
   "execution_count": 59,
   "metadata": {},
   "outputs": [
    {
     "name": "stdout",
     "output_type": "stream",
     "text": [
      "300\n",
      "300\n",
      "314549\n"
     ]
    }
   ],
   "source": [
    "from numpy import loadtxt\n",
    "names_male = loadtxt(\"./data/supporting/names/polish_male_firstnames.txt\", dtype='str')\n",
    "names_female = loadtxt(\"./data/supporting/names/polish_female_firstnames.txt\", dtype='str')\n",
    "surnames = loadtxt(\"./data/supporting/names/polish_surnames.txt\", dtype='str')\n",
    "genders = [\"female\", \"male\"]\n",
    "ranks = [\"officer\", \"normal\"]\n",
    "\n",
    "print(len(names_male))\n",
    "print(len(names_female))\n",
    "print(len(surnames))"
   ]
  },
  {
   "cell_type": "markdown",
   "metadata": {},
   "source": [
    "# Define object classes"
   ]
  },
  {
   "cell_type": "code",
   "execution_count": 60,
   "metadata": {},
   "outputs": [],
   "source": [
    "class Vehicle:\n",
    "  def __init__(self, license_plate_number, vehicle_type, brand, model, manufacturing_year):\n",
    "    \n",
    "    self.license_plate_number = license_plate_number\n",
    "    \n",
    "    # \"car\" or \"motorbike\"\n",
    "    self.vehicle_type = vehicle_type\n",
    "    self.brand = brand\n",
    "    self.model = model\n",
    "    self.manufacturing_year = manufacturing_year\n",
    "    \n",
    "    # meters per second\n",
    "    self.max_speed = 100\n",
    "    self.last_inspection = manufacturing_year"
   ]
  },
  {
   "cell_type": "code",
   "execution_count": 61,
   "metadata": {},
   "outputs": [],
   "source": [
    "class Officer:\n",
    "  def __init__(self, officer_id, first_name, last_name, rank, gender, date_of_birth, hire_date, email, phone_number):\n",
    "    \n",
    "    self.officer_id = officer_id\n",
    "    self.first_name = first_name\n",
    "    self.last_name = last_name\n",
    "    self.rank = rank\n",
    "    self.gender = gender\n",
    "    self.date_of_birth = date_of_birth\n",
    "    self.hire_date = hire_date\n",
    "    self.email = email\n",
    "    self.phone_number = phone_number"
   ]
  },
  {
   "cell_type": "code",
   "execution_count": 62,
   "metadata": {},
   "outputs": [],
   "source": [
    "class Victim:\n",
    "  def __init__(self, victim_id, first_name, last_name, gender, date_of_birth):\n",
    "    \n",
    "    self.victim_id = victim_id\n",
    "    self.first_name = first_name\n",
    "    self.last_name = last_name\n",
    "    self.gender = gender\n",
    "    self.date_of_birth = date_of_birth"
   ]
  },
  {
   "cell_type": "code",
   "execution_count": 63,
   "metadata": {},
   "outputs": [],
   "source": [
    "class City:\n",
    "  def __init__(self, city_name, city_districts):\n",
    "    \n",
    "    self.city_name = city_name\n",
    "    self.city_districts = city_districts"
   ]
  },
  {
   "cell_type": "markdown",
   "metadata": {},
   "source": [
    "# Define Generator"
   ]
  },
  {
   "cell_type": "code",
   "execution_count": 64,
   "metadata": {},
   "outputs": [],
   "source": [
    "INITIAL_COUNTS = {\n",
    "  \"officers\": 100,\n",
    "  \"cars\": 70,\n",
    "  \"motorbikes\": 30\n",
    "}\n",
    "\n",
    "class Generator:\n",
    "  def __init__(self, initial_counts, vehicle_pos_regestration_timestep, incidents_per_hour):\n",
    "    \n",
    "    self.initial_counts = initial_counts\n",
    "    # In seconds\n",
    "    self.vehicle_pos_regestration_timestep = vehicle_pos_regestration_timestep\n",
    "    self.incidents_per_hour = incidents_per_hour\n",
    "    \n",
    "    \n",
    "    self.cars = [None] * initial_counts[\"cars\"]\n",
    "    self.motorbikes = [None] * initial_counts[\"motorbikes\"]\n",
    "    self.officers = [None] * initial_counts[\"officers\"]\n",
    "    \n",
    "  def generate_initial_data(self, initial_date):\n",
    "    \n",
    "    def create_officer(id):\n",
    "      MIN_OFFICER_AGE = 21\n",
    "      MAX_OFFICER_AGE = 70\n",
    "      MAX_OFFICER_HIRE_TIME = 35\n",
    "\n",
    "      gender = random.choice(genders)\n",
    "      last_name = random.choice(surnames)\n",
    "      \n",
    "      hire_date = generate_random_date(initial_date - timedelta(days=MAX_OFFICER_HIRE_TIME*365), initial_date)\n",
    "      \n",
    "      date_of_birth = generate_random_date(initial_date - timedelta(days=MAX_OFFICER_AGE*365), hire_date - timedelta(days=MIN_OFFICER_AGE*365))\n",
    "      \n",
    "      rank = random.choice(ranks)\n",
    "\n",
    "      if gender == \"male\":\n",
    "        first_name = random.choice(names_male)\n",
    "      else:\n",
    "        first_name = random.choice(names_female)\n",
    "      \n",
    "      officer = Officer(id, first_name, last_name, rank, gender, date_of_birth, hire_date, \"officer{}@police.org.pl\".format(id), 111111111)\n",
    "      # print(date_of_birth, hire_date)\n",
    "      \n",
    "      return officer\n",
    "    \n",
    "    def create_car():\n",
    "      \n",
    "      OLDEST_CAR_YEAR = 10\n",
    "      EARLIEST_CAR_YEAR = 1\n",
    "      \n",
    "      license_plate_number = generate_licence_plate()\n",
    "      brand = random.choice(list(car_brands.keys()))\n",
    "      model = random.choice(car_brands[brand])\n",
    "      manufacturing_year = generate_random_date(initial_date - timedelta(days=OLDEST_CAR_YEAR*365), initial_date - timedelta(days=EARLIEST_CAR_YEAR*365))\n",
    "      \n",
    "      car = Vehicle(license_plate_number, \"car\", brand, model, manufacturing_year)\n",
    "      # print(manufacturing_year, brand, model, license_plate_number)\n",
    "      \n",
    "      return car\n",
    "      \n",
    "    def create_motorbike():\n",
    "      OLDEST_CAR_YEAR = 10\n",
    "      EARLIEST_CAR_YEAR = 1\n",
    "      \n",
    "      license_plate_number = generate_licence_plate()\n",
    "      brand = random.choice(list(motorbike_brands.keys()))\n",
    "      model = random.choice(motorbike_brands[brand])\n",
    "      manufacturing_year = generate_random_date(initial_date - timedelta(days=OLDEST_CAR_YEAR*365), initial_date - timedelta(days=EARLIEST_CAR_YEAR*365))\n",
    "      \n",
    "      motorbike = Vehicle(license_plate_number, \"motorbike\", brand, model, manufacturing_year)\n",
    "      print(manufacturing_year, brand, model, license_plate_number)\n",
    "      \n",
    "      return motorbike\n",
    "    \n",
    "    \n",
    "    create_officer(1)\n",
    "    \n",
    "    for i in range(1, self.initial_counts[\"officers\"]):\n",
    "      officer = create_officer(i)\n",
    "      self.officers[i] = officer\n",
    "      \n",
    "    for i in range(1, self.initial_counts[\"cars\"]):\n",
    "      car = create_car()\n",
    "      self.cars[i] = car\n",
    "      \n",
    "    for i in range(1, self.initial_counts[\"motorbikes\"]):\n",
    "      motorbike = create_motorbike()\n",
    "      self.motorbikes[i] = motorbike\n",
    "      \n",
    "    \n",
    "  def simulate(self, from_time, to_time):\n",
    "    time_diff = to_time - from_time\n",
    "    iterations = time_diff.total_seconds() / self.vehicle_pos_regestration_timestep\n",
    "    print(time_diff.total_seconds(), iterations)\n",
    "    for i in range(1, int(iterations)):\n",
    "      print(i)"
   ]
  },
  {
   "cell_type": "code",
   "execution_count": 65,
   "metadata": {},
   "outputs": [
    {
     "name": "stdout",
     "output_type": "stream",
     "text": [
      "2018-07-29 Kawasaki Versys 1000 BNF8050\n",
      "2019-08-22 BMW R 1250 RT ZYY6608\n",
      "2020-05-25 BMW R 1250 RT MAZ7396\n",
      "2017-12-27 Kawasaki Versys 1000 UVV3389\n",
      "2021-03-25 Kawasaki Versys 1000 KBU2544\n",
      "2021-03-18 BMW R 1250 RT ZQO7302\n",
      "2022-09-13 BMW R 1250 RT BJT5007\n",
      "2014-11-02 Triumph Tiger 1050 XJB4662\n",
      "2014-01-10 Triumph Tiger 1050 ZEP5721\n",
      "2020-08-21 BMW R 1250 RT OGI5754\n",
      "2018-06-10 Triumph Tiger 1050 JQJ1386\n",
      "2014-11-14 Triumph Tiger 1050 PZW8010\n",
      "2020-03-04 BMW R 1250 RT NRL2518\n",
      "2022-02-08 BMW R 1250 RT RSM0779\n",
      "2016-09-18 BMW R 1250 RT LPP5080\n",
      "2018-12-25 BMW R 1250 RT BNR9248\n",
      "2020-07-05 BMW R 1250 RT INW5596\n",
      "2019-12-25 Triumph Tiger 1050 FZS1023\n",
      "2018-12-20 Kawasaki Versys 1000 NAX6047\n",
      "2014-03-24 Triumph Tiger 1050 IIV4977\n",
      "2017-02-25 Triumph Tiger 1050 NFP6194\n",
      "2017-12-11 Kawasaki Versys 1000 NRA7129\n",
      "2022-10-12 Kawasaki Versys 1000 SWN0995\n",
      "2019-01-24 Kawasaki Versys 1000 KYI5398\n",
      "2019-07-06 BMW R 1250 RT YZE6411\n",
      "2015-08-27 Triumph Tiger 1050 ZYA8326\n",
      "2015-12-21 Kawasaki Versys 1000 YJV3645\n",
      "2021-04-03 BMW R 1250 RT KDY3732\n",
      "2014-10-05 Kawasaki Versys 1000 FJV0781\n"
     ]
    }
   ],
   "source": [
    "generator = Generator(INITIAL_COUNTS, 300, 15)\n",
    "\n",
    "from datetime import date\n",
    "startdate = date(2023, 1, 1)\n",
    "enddate = date(2023, 12, 31)\n",
    "\n",
    "generator.generate_initial_data(enddate)\n",
    "# generator.simulate(startdate, enddate)"
   ]
  }
 ],
 "metadata": {
  "kernelspec": {
   "display_name": "env_torch",
   "language": "python",
   "name": "python3"
  },
  "language_info": {
   "codemirror_mode": {
    "name": "ipython",
    "version": 3
   },
   "file_extension": ".py",
   "mimetype": "text/x-python",
   "name": "python",
   "nbconvert_exporter": "python",
   "pygments_lexer": "ipython3",
   "version": "3.10.13"
  }
 },
 "nbformat": 4,
 "nbformat_minor": 2
}
