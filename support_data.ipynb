{
 "cells": [
  {
   "cell_type": "code",
   "execution_count": 10,
   "metadata": {},
   "outputs": [],
   "source": [
    "# Importing libraries\n",
    "\n",
    "# import pandas as pd\n",
    "# import numpy as np"
   ]
  },
  {
   "cell_type": "code",
   "execution_count": 27,
   "metadata": {},
   "outputs": [
    {
     "name": "stdout",
     "output_type": "stream",
     "text": [
      "300\n",
      "300\n",
      "314549\n"
     ]
    }
   ],
   "source": [
    "from numpy import loadtxt\n",
    "names_male = loadtxt(\"./data/supporting/names/polish_male_firstnames.txt\", dtype='str')\n",
    "names_female = loadtxt(\"./data/supporting/names/polish_female_firstnames.txt\", dtype='str')\n",
    "surnames = loadtxt(\"./data/supporting/names/polish_surnames.txt\", dtype='str')\n",
    "\n",
    "print(len(names_male))\n",
    "print(len(names_female))\n",
    "print(len(surnames))"
   ]
  }
 ],
 "metadata": {
  "kernelspec": {
   "display_name": "env_torch",
   "language": "python",
   "name": "python3"
  },
  "language_info": {
   "codemirror_mode": {
    "name": "ipython",
    "version": 3
   },
   "file_extension": ".py",
   "mimetype": "text/x-python",
   "name": "python",
   "nbconvert_exporter": "python",
   "pygments_lexer": "ipython3",
   "version": "3.10.13"
  }
 },
 "nbformat": 4,
 "nbformat_minor": 2
}
